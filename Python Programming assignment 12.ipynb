{
 "cells": [
  {
   "cell_type": "raw",
   "id": "faf0574d",
   "metadata": {},
   "source": [
    "1. Write a Python program to Extract Unique values dictionary values?"
   ]
  },
  {
   "cell_type": "code",
   "execution_count": 1,
   "id": "10f4f372",
   "metadata": {},
   "outputs": [
    {
     "name": "stdout",
     "output_type": "stream",
     "text": [
      "dict_values(['gajanan', 'nyra', 'varsha', 'gajanan', 'vishal', 'gargi', 'gargi'])\n",
      "Unique Values: ['nyra', 'varsha', 'vishal', 'gajanan', 'gargi']\n"
     ]
    }
   ],
   "source": [
    "in_dict={1:\"gajanan\",2:\"nyra\",3:\"varsha\",4:\"gajanan\",5:\"vishal\",6:\"gargi\",7:\"gargi\"}\n",
    "print(in_dict.values())\n",
    "print(f'Unique Values: {list(set(in_dict.values()))}')"
   ]
  },
  {
   "cell_type": "code",
   "execution_count": null,
   "id": "2a2b4a3e",
   "metadata": {},
   "outputs": [],
   "source": []
  },
  {
   "cell_type": "code",
   "execution_count": null,
   "id": "7cf6f499",
   "metadata": {},
   "outputs": [],
   "source": []
  },
  {
   "cell_type": "raw",
   "id": "c359f9cb",
   "metadata": {},
   "source": [
    "2. Write a Python program to find the sum of all items in a dictionary?"
   ]
  },
  {
   "cell_type": "code",
   "execution_count": 2,
   "id": "69e4c471",
   "metadata": {},
   "outputs": [
    {
     "name": "stdout",
     "output_type": "stream",
     "text": [
      "sum of all items:  4220\n"
     ]
    }
   ],
   "source": [
    "in_dict = {'varsha':40,'gaju':30,'nyra':60,'vishal':90,'gargi':4000}\n",
    "print('sum of all items: ',sum(in_dict.values()))"
   ]
  },
  {
   "cell_type": "code",
   "execution_count": null,
   "id": "bbee24cc",
   "metadata": {},
   "outputs": [],
   "source": []
  },
  {
   "cell_type": "code",
   "execution_count": null,
   "id": "09809484",
   "metadata": {},
   "outputs": [],
   "source": []
  },
  {
   "cell_type": "raw",
   "id": "aa479544",
   "metadata": {},
   "source": [
    "3. Write a Python program to Merging two Dictionaries?"
   ]
  },
  {
   "cell_type": "code",
   "execution_count": 4,
   "id": "0c375dde",
   "metadata": {},
   "outputs": [
    {
     "name": "stdout",
     "output_type": "stream",
     "text": [
      "{'course_name': 'M.com', 'class_teachers': ['Deepak', 'Abhay']}\n"
     ]
    }
   ],
   "source": [
    "course_details = {\n",
    "    \n",
    "    'course_name':'M.com'\n",
    "}\n",
    "teachers = {\n",
    "    'class_teachers':['Deepak','Abhay']\n",
    "}\n",
    "course_details.update(teachers)\n",
    "print(course_details)"
   ]
  },
  {
   "cell_type": "code",
   "execution_count": null,
   "id": "c591445e",
   "metadata": {},
   "outputs": [],
   "source": []
  },
  {
   "cell_type": "code",
   "execution_count": null,
   "id": "6deecb82",
   "metadata": {},
   "outputs": [],
   "source": []
  },
  {
   "cell_type": "raw",
   "id": "1ff16258",
   "metadata": {},
   "source": [
    "4. Write a Python program to convert key-values list to flat dictionary?"
   ]
  },
  {
   "cell_type": "code",
   "execution_count": 7,
   "id": "1cee9226",
   "metadata": {},
   "outputs": [
    {
     "name": "stdout",
     "output_type": "stream",
     "text": [
      "{'a': 20, 'b': 40, 'c': 60, 'd': 80, 'e': 100, 'f': 120, 'g': 130, 'h': 150, 'i': 80, 'j': 70}\n"
     ]
    }
   ],
   "source": [
    "in_list = [('a',20),('b',40),('c',60),('d',80),('e',100),('f',120),('g',130),('h',150),('i',80),('j',70)]\n",
    "\n",
    "#dict(in_list)\n",
    "\n",
    "out_dict={}\n",
    "for ele in in_list:\n",
    "    out_dict[ele[0]]=ele[1]\n",
    "print(out_dict)\n",
    "    "
   ]
  },
  {
   "cell_type": "code",
   "execution_count": null,
   "id": "31970b23",
   "metadata": {},
   "outputs": [],
   "source": []
  },
  {
   "cell_type": "code",
   "execution_count": null,
   "id": "023a15bd",
   "metadata": {},
   "outputs": [],
   "source": []
  },
  {
   "cell_type": "raw",
   "id": "0526db1e",
   "metadata": {},
   "source": [
    "5. Write a Python program to insertion at the beginning in OrderedDict?"
   ]
  },
  {
   "cell_type": "code",
   "execution_count": 11,
   "id": "816ed911",
   "metadata": {},
   "outputs": [
    {
     "name": "stdout",
     "output_type": "stream",
     "text": [
      "dict OrderedDict([('animal', 'dog'), ('bird', 'duck'), ('fruit', 'banana')])\n",
      "dict_one OrderedDict([('animal', 'dog'), ('bird', 'duck'), ('fruit', 'banana'), ('toy', 'doll')])\n",
      "dict_one OrderedDict([('toy', 'doll'), ('animal', 'dog'), ('bird', 'duck'), ('fruit', 'banana')])\n"
     ]
    }
   ],
   "source": [
    "from collections import OrderedDict\n",
    "dict_one = OrderedDict({'animal':'dog','bird':'duck','fruit':'banana'})\n",
    "print('dict',dict_one)\n",
    "dict_two = {'toy':'doll'}\n",
    "dict_one.update(dict_two)\n",
    "print('dict_one',dict_one)\n",
    "dict_one.move_to_end('toy',last=False)\n",
    "print('dict_one',dict_one)"
   ]
  },
  {
   "cell_type": "code",
   "execution_count": null,
   "id": "4be4f104",
   "metadata": {},
   "outputs": [],
   "source": []
  },
  {
   "cell_type": "code",
   "execution_count": null,
   "id": "1b870edf",
   "metadata": {},
   "outputs": [],
   "source": []
  },
  {
   "cell_type": "raw",
   "id": "927773d3",
   "metadata": {},
   "source": [
    "6. Write a Python program to check order of character in string using OrderedDict()?"
   ]
  },
  {
   "cell_type": "code",
   "execution_count": 14,
   "id": "a0b36473",
   "metadata": {},
   "outputs": [
    {
     "name": "stdout",
     "output_type": "stream",
     "text": [
      "{'z': 1200, 'a': 400, 'e': 299, 'c': 566, 'd': 788, 'k': 300}\n",
      "OrderedDict([('a', 400), ('c', 566), ('d', 788), ('e', 299), ('k', 300), ('z', 1200)])\n"
     ]
    }
   ],
   "source": [
    "from collections import OrderedDict\n",
    "\n",
    "first_list = {'z': 1200, 'a':400,'e':299, 'c':566,'d':788, 'k': 300}\n",
    "print(first_list)\n",
    "\n",
    "final_list = OrderedDict(dict(sorted(first_list.items())))\n",
    "print(final_list)"
   ]
  },
  {
   "cell_type": "code",
   "execution_count": null,
   "id": "ba63b4f1",
   "metadata": {},
   "outputs": [],
   "source": []
  },
  {
   "cell_type": "code",
   "execution_count": null,
   "id": "46e31f11",
   "metadata": {},
   "outputs": [],
   "source": []
  },
  {
   "cell_type": "raw",
   "id": "5914337c",
   "metadata": {},
   "source": [
    "7. Write a Python program to sort Python Dictionaries by Key or Value?"
   ]
  },
  {
   "cell_type": "code",
   "execution_count": 16,
   "id": "2ae30476",
   "metadata": {},
   "outputs": [
    {
     "name": "stdout",
     "output_type": "stream",
     "text": [
      "{'abi': 200, 'gajanan': 300, 'nyra': 100, 'varsha': 500}\n",
      "{'nyra': 100, 'abi': 200, 'gajanan': 300, 'varsha': 500}\n"
     ]
    }
   ],
   "source": [
    "dict_items = {'gajanan':300,'abi':200,'varsha':500,'nyra':100}\n",
    "\n",
    "def sort_dict(in_dict,sort_type):\n",
    "    if sort_type == 'key':\n",
    "        print(dict(sorted(in_dict.items(),key=lambda x:x[0], reverse = False)))\n",
    "    else:\n",
    "        print(dict(sorted(in_dict.items(),key=lambda x:x[1], reverse= False)))\n",
    "        \n",
    "sort_dict(dict_items,'key')\n",
    "sort_dict(dict_items,'value')"
   ]
  },
  {
   "cell_type": "code",
   "execution_count": null,
   "id": "45e437da",
   "metadata": {},
   "outputs": [],
   "source": []
  },
  {
   "cell_type": "code",
   "execution_count": null,
   "id": "44515cb3",
   "metadata": {},
   "outputs": [],
   "source": []
  }
 ],
 "metadata": {
  "kernelspec": {
   "display_name": "Python 3",
   "language": "python",
   "name": "python3"
  },
  "language_info": {
   "codemirror_mode": {
    "name": "ipython",
    "version": 3
   },
   "file_extension": ".py",
   "mimetype": "text/x-python",
   "name": "python",
   "nbconvert_exporter": "python",
   "pygments_lexer": "ipython3",
   "version": "3.8.8"
  }
 },
 "nbformat": 4,
 "nbformat_minor": 5
}
